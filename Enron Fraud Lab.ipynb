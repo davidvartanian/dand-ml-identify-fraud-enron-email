{
 "cells": [
  {
   "cell_type": "markdown",
   "metadata": {},
   "source": [
    "# Identify Fraud from Enron Email\n",
    "## Using Machine Learning Techniques\n",
    "### by David Vartanian"
   ]
  },
  {
   "cell_type": "markdown",
   "metadata": {},
   "source": [
    "## References\n",
    "\n",
    "### Documentation links\n",
    "\n",
    "* http://scikit-learn.org/stable/modules/generated/sklearn.decomposition.PCA.html\n",
    "* http://scikit-learn.org/stable/modules/generated/sklearn.feature_selection.SelectKBest.html\n",
    "* http://scikit-learn.org/stable/modules/generated/sklearn.feature_selection.SelectPercentile.html\n",
    "* http://scikit-learn.org/stable/modules/generated/sklearn.preprocessing.MinMaxScaler.html\n",
    "* http://scikit-learn.org/stable/modules/generated/sklearn.feature_extraction.text.TfidfVectorizer.html\n",
    "* http://scikit-learn.org/stable/modules/generated/sklearn.model_selection.GridSearchCV.html\n",
    "* http://scikit-learn.org/stable/modules/generated/sklearn.naive_bayes.GaussianNB.html\n",
    "* http://scikit-learn.org/stable/modules/generated/sklearn.svm.SVC.html\n",
    "* http://scikit-learn.org/stable/modules/generated/sklearn.linear_model.LinearRegression.html\n",
    "* http://scikit-learn.org/stable/modules/generated/sklearn.tree.DecisionTreeClassifier.html\n",
    "* http://scikit-learn.org/stable/modules/generated/sklearn.neighbors.KNeighborsClassifier.html#sklearn.neighbors.KNeighborsClassifier\n",
    "* http://scikit-learn.org/stable/modules/generated/sklearn.model_selection.KFold.html\n",
    "* http://scikit-learn.org/stable/modules/generated/sklearn.metrics.f1_score.html\n",
    "* http://scikit-learn.org/stable/modules/generated/sklearn.metrics.precision_score.html\n",
    "* http://scikit-learn.org/stable/modules/generated/sklearn.metrics.recall_score.html\n",
    "* http://scikit-learn.org/stable/modules/generated/sklearn.metrics.confusion_matrix.html\n",
    "* http://scikit-learn.org/stable/modules/generated/sklearn.preprocessing.Imputer.html\n",
    "\n",
    "### Useful links\n",
    "\n",
    "* https://www.quora.com/What-are-C-and-gamma-with-regards-to-a-support-vector-machine\n",
    "* https://www.quora.com/What-is-the-best-way-to-understand-the-terms-precision-and-recall\n",
    "* https://en.wikipedia.org/wiki/Precision_and_recall\n",
    "* https://en.wikipedia.org/wiki/F1_score\n",
    "* https://stats.stackexchange.com/questions/49540/understanding-stratified-cross-validation"
   ]
  },
  {
   "cell_type": "code",
   "execution_count": 1,
   "metadata": {
    "collapsed": true
   },
   "outputs": [],
   "source": [
    "# notebook/visualisation imports\n",
    "import matplotlib.pyplot as plt\n",
    "from IPython.display import display\n",
    "%load_ext autoreload\n",
    "%autoreload 2"
   ]
  },
  {
   "cell_type": "code",
   "execution_count": 9,
   "metadata": {},
   "outputs": [],
   "source": [
    "# poi_id.py\n",
    "#!/usr/bin/python\n",
    "\n",
    "import sys\n",
    "import pickle\n",
    "from time import time\n",
    "\n",
    "from udacity import featureFormat, targetFeatureSplit\n",
    "from tester import dump_classifier_and_data"
   ]
  },
  {
   "cell_type": "code",
   "execution_count": 3,
   "metadata": {},
   "outputs": [
    {
     "name": "stdout",
     "output_type": "stream",
     "text": [
      "Keys:\n"
     ]
    },
    {
     "data": {
      "text/plain": [
       "['bonus',\n",
       " 'deferral_payments',\n",
       " 'deferred_income',\n",
       " 'director_fees',\n",
       " 'email_address',\n",
       " 'exercised_stock_options',\n",
       " 'expenses',\n",
       " 'from_messages',\n",
       " 'from_poi_to_this_person',\n",
       " 'from_this_person_to_poi',\n",
       " 'loan_advances',\n",
       " 'long_term_incentive',\n",
       " 'other',\n",
       " 'poi',\n",
       " 'restricted_stock',\n",
       " 'restricted_stock_deferred',\n",
       " 'salary',\n",
       " 'shared_receipt_with_poi',\n",
       " 'to_messages',\n",
       " 'total_payments',\n",
       " 'total_stock_value']"
      ]
     },
     "metadata": {},
     "output_type": "display_data"
    }
   ],
   "source": [
    "### Task 1: Select what features you'll use.\n",
    "### features_list is a list of strings, each of which is a feature name.\n",
    "### The first feature must be \"poi\".\n",
    "features_list = ['poi', 'salary', 'bonus', 'director_fees', 'other', 'exercised_stock_options', 'expenses'] # You will need to use more features\n",
    "\n",
    "### Load the dictionary containing the dataset\n",
    "with open(\"final_project_dataset.pkl\", \"r\") as data_file:\n",
    "    data_dict = pickle.load(data_file)\n",
    "print 'Keys:'\n",
    "display(sorted(data_dict[data_dict.keys()[0]].keys()))"
   ]
  },
  {
   "cell_type": "markdown",
   "metadata": {},
   "source": [
    "### Keys:\n",
    "\n",
    "* **bonus**: Reflects annual cash incentives paid based upon company performance. Also may include other retention payments.\n",
    "* **deferral_payments**: Reflects distributions from a deferred compensation arrangement due to termination of employment or due to in-service withdrawals as per plan provisions.\n",
    "* **deferred_income**: Reflects voluntary executive deferrals of salary, annual cash incentives, and long-term cash incentives as well as cash fees deferred by non-employee directors under a deferred compensation arrangement. May also reflect deferrals under a stock option or phantom stock unit in lieu of cash arrangement.\n",
    "* **director_fees**: Reflects cash payments and/or value of stock grants made in lieu of cash payments to non-employee directors.\n",
    "* **email_address**: This person's email address\n",
    "* **exercised_stock_options**: Reflects amounts from exercised stock options which equal the market value in excess of the exercise price on the date the options were exercised either through cashless (same-day sale), stock swap or cash exercises. The reflected gain may differ from that realized by the insider due to fluctuations in the market price and the timing of any subsequent sale of the securities.\n",
    "* **expenses**: Reflects reimbursements of business expenses. May include fees paid for consulting services.\n",
    "* **from_messages**: Messages sent from this person\n",
    "* **from_poi_to_this_person**: Messages sent from this person to a POI\n",
    "* **from_this_person_to_poi**: Messages sent from a POI to this person\n",
    "* **loan_advances**: Reflects total amount of loan advances, excluding repayments, provided by the Debtor in return for a promise of repayment. In certain instances, the terms of the promissory notes allow for the option to repay with stock of the company.\n",
    "* **long_term_incentive**: Reflects long-term incentive cash payments from various long-term incentive programs designed to tie executive compensation to long-term success as measured against key performance drivers and business objectives over a multi-year period, generally 3 to 5 years.\n",
    "* **other**: Reflects items such as payments for severence, consulting services, relocation costs, tax advances and allowances for employees on international assignment (i.e. housing allowances, cost of living allowances, payments under Enron’s Tax Equalization Program, etc.). May also include payments provided with respect to employment agreements, as well as imputed income amounts for such things as use of corporate aircraft.\n",
    "* **poi**: Whether this person is a POI\n",
    "* **restricted_stock**: Reflects the gross fair market value of shares and accrued dividends (and/or phantom units and dividend equivalents) on the date of release due to lapse of vesting periods, regardless of whether deferred.\n",
    "* **restricted_stock_deferred**: Reflects value of restricted stock voluntarily deferred prior to release under a deferred compensation arrangement.\n",
    "* **salary**: Reflects items such as base salary, executive cash allowances, and benefits payments.\n",
    "* **shared_receipt_with_poi**: Bill shared with a POI\n",
    "* **to_messages**: Messages sent to this person\n",
    "* **total_payments**: Sum of all payments\n",
    "* **total_stock_value**: Sum of all stock operations\n",
    "\n",
    "#### Possible POI financial features\n",
    "\n",
    "* bonus\n",
    "* deferral_payments\n",
    "* deffered_income\n",
    "* director_fees\n",
    "* exercised_stock_options\n",
    "* expenses\n",
    "* long_term_incentive\n",
    "* other\n",
    "\n",
    "#### Possible POI non-financial features\n",
    "\n",
    "* from_poi_to_this_person\n",
    "* from_this_person_to_poi\n",
    "* shared_receipt_with_poi\n",
    "\n",
    "\n",
    "#### Comments\n",
    "I need to know what all variables mean in order to come up with possible outliers and feature selection/engineering."
   ]
  },
  {
   "cell_type": "code",
   "execution_count": 4,
   "metadata": {
    "scrolled": false
   },
   "outputs": [
    {
     "name": "stdout",
     "output_type": "stream",
     "text": [
      "Distribution of salary:\n"
     ]
    },
    {
     "data": {
      "image/png": "[encoded data removed]",
      "text/plain": [
       "<matplotlib.figure.Figure at 0x7fcb7ac889d0>"
      ]
     },
     "metadata": {},
     "output_type": "display_data"
    },
    {
     "data": {
      "text/plain": [
       "{'argmax': 'TOTAL',\n",
       " 'count': 146,\n",
       " 'iqr': array([ 211816.,  312117.]),\n",
       " 'max': 26704229.0,\n",
       " 'mean': 365811.35616438359,\n",
       " 'median': 259996.0,\n",
       " 'min': 477.0,\n",
       " 'std': 2702034.6526232096}"
      ]
     },
     "metadata": {},
     "output_type": "display_data"
    },
    {
     "name": "stdout",
     "output_type": "stream",
     "text": [
      "Distribution of bonus:\n"
     ]
    },
    {
     "data": {
      "image/png": "[encoded data removed]",
      "text/plain": [
       "<matplotlib.figure.Figure at 0x7fcb75760cd0>"
      ]
     },
     "metadata": {},
     "output_type": "display_data"
    },
    {
     "data": {
      "text/plain": [
       "{'argmax': 'TOTAL',\n",
       " 'count': 146,\n",
       " 'iqr': array([  431250.,  1200000.]),\n",
       " 'max': 97343619.0,\n",
       " 'mean': 1333474.2328767122,\n",
       " 'median': 769375.0,\n",
       " 'min': 70000.0,\n",
       " 'std': 10647802.412658392}"
      ]
     },
     "metadata": {},
     "output_type": "display_data"
    },
    {
     "name": "stdout",
     "output_type": "stream",
     "text": [
      "Distribution of director_fees:\n"
     ]
    },
    {
     "data": {
      "image/png": "[encoded data removed]",
      "text/plain": [
       "<matplotlib.figure.Figure at 0x7fcb7553ced0>"
      ]
     },
     "metadata": {},
     "output_type": "display_data"
    },
    {
     "data": {
      "text/plain": [
       "{'argmax': 'TOTAL',\n",
       " 'count': 146,\n",
       " 'iqr': array([  98784.,  113784.]),\n",
       " 'max': 1398517.0,\n",
       " 'mean': 19422.486301369863,\n",
       " 'median': 108579.0,\n",
       " 'min': 3285.0,\n",
       " 'std': 310340.25202725327}"
      ]
     },
     "metadata": {},
     "output_type": "display_data"
    },
    {
     "name": "stdout",
     "output_type": "stream",
     "text": [
      "Distribution of other:\n"
     ]
    },
    {
     "data": {
      "image/png": "[encoded data removed]",
      "text/plain": [
       "<matplotlib.figure.Figure at 0x7fcb753422d0>"
      ]
     },
     "metadata": {},
     "output_type": "display_data"
    },
    {
     "data": {
      "text/plain": [
       "{'argmax': 'TOTAL',\n",
       " 'count': 146,\n",
       " 'iqr': array([   1215.,  362096.]),\n",
       " 'max': 42667589.0,\n",
       " 'mean': 585431.79452054796,\n",
       " 'median': 52382.0,\n",
       " 'min': 2.0,\n",
       " 'std': 4564512.8195495447}"
      ]
     },
     "metadata": {},
     "output_type": "display_data"
    },
    {
     "name": "stdout",
     "output_type": "stream",
     "text": [
      "Distribution of exercised_stock_options:\n"
     ]
    },
    {
     "data": {
      "image/png": "[encoded data removed]",
      "text/plain": [
       "<matplotlib.figure.Figure at 0x7fcb751838d0>"
      ]
     },
     "metadata": {},
     "output_type": "display_data"
    },
    {
     "data": {
      "text/plain": [
       "{'argmax': 'TOTAL',\n",
       " 'count': 146,\n",
       " 'iqr': array([  527886.25,  2547724.  ]),\n",
       " 'max': 311764000.0,\n",
       " 'mean': 4182736.1986301369,\n",
       " 'median': 1310813.5,\n",
       " 'min': 3285.0,\n",
       " 'std': 30909366.79217739}"
      ]
     },
     "metadata": {},
     "output_type": "display_data"
    },
    {
     "name": "stdout",
     "output_type": "stream",
     "text": [
      "Distribution of expenses:\n"
     ]
    },
    {
     "data": {
      "image/png": "[encoded data removed]",
      "text/plain": [
       "<matplotlib.figure.Figure at 0x7fcb74fd0810>"
      ]
     },
     "metadata": {},
     "output_type": "display_data"
    },
    {
     "data": {
      "text/plain": [
       "{'argmax': 'TOTAL',\n",
       " 'count': 146,\n",
       " 'iqr': array([ 22614. ,  79952.5]),\n",
       " 'max': 5235198.0,\n",
       " 'mean': 70748.267123287675,\n",
       " 'median': 46950.0,\n",
       " 'min': 148.0,\n",
       " 'std': 530719.30731012637}"
      ]
     },
     "metadata": {},
     "output_type": "display_data"
    }
   ],
   "source": [
    "### Task 2: Remove outliers\n",
    "from outlier import OutlierCleaner\n",
    "from visualisation import scatter_plot\n",
    "from outlier import summary\n",
    "\n",
    "\n",
    "data_keys = data_dict.keys()\n",
    "\n",
    "for k in features_list[1:]:\n",
    "    print 'Distribution of %s:' % k\n",
    "    display(summary(data_dict, k, data_keys))"
   ]
  },
  {
   "cell_type": "code",
   "execution_count": 8,
   "metadata": {
    "collapsed": true
   },
   "outputs": [],
   "source": [
    "### Task 2: Remove outliers\n",
    "\n",
    "# remove known TOTAL outlier\n",
    "outlier = data_dict.pop('TOTAL', 0)\n",
    "outlier = data_dict.pop('THE TRAVEL AGENCY IN THE PARK', 0)\n",
    "outlier = data_dict.pop('LOCKHART EUGENE E', 0)\n",
    "# data = featureFormat(data_dict, features_list)\n",
    "# labels, features = targetFeatureSplit(data)"
   ]
  },
  {
   "cell_type": "code",
   "execution_count": 12,
   "metadata": {
    "collapsed": true,
    "scrolled": true
   },
   "outputs": [],
   "source": [
    "### Task 3: Create new feature(s)\n",
    "### Store to my_dataset for easy export below.\n",
    "import pandas as pd\n",
    "\n",
    "my_df = pd.DataFrame(data_dict.values(), columns=data_dict[data_dict.keys()[0]].keys(), index=data_dict.keys())\n",
    "#my_dataset = data_dict\n",
    "#  new features ideas\n",
    "# * from_messages/from_this_person_to_poi ratio\n",
    "# * to_messages/from_poi_to_this_person ratio\n",
    "# * POIs mentioned in emails"
   ]
  },
  {
   "cell_type": "code",
   "execution_count": 13,
   "metadata": {},
   "outputs": [
    {
     "data": {
      "text/plain": [
       "{'bonus': 64,\n",
       " 'deferral_payments': 107,\n",
       " 'deferred_income': 97,\n",
       " 'director_fees': 129,\n",
       " 'email_address': 34,\n",
       " 'exercised_stock_options': 44,\n",
       " 'expenses': 51,\n",
       " 'from_messages': 59,\n",
       " 'from_poi_to_this_person': 59,\n",
       " 'from_this_person_to_poi': 59,\n",
       " 'loan_advances': 142,\n",
       " 'long_term_incentive': 80,\n",
       " 'other': 53,\n",
       " 'restricted_stock': 36,\n",
       " 'restricted_stock_deferred': 128,\n",
       " 'salary': 51,\n",
       " 'shared_receipt_with_poi': 59,\n",
       " 'to_messages': 59,\n",
       " 'total_payments': 21,\n",
       " 'total_stock_value': 20}"
      ]
     },
     "metadata": {},
     "output_type": "display_data"
    }
   ],
   "source": [
    "# Find Outliers\n",
    "missing_values = {}\n",
    "for c in my_df.columns.values:\n",
    "    if c != 'poi':\n",
    "        missing_values[c] = my_df[my_df[c] == 'NaN'][c].count()\n",
    "#                 my_df[my_df['to_messages'] == 'NaN']['to_messages'].count()\n",
    "display(missing_values)"
   ]
  },
  {
   "cell_type": "code",
   "execution_count": 14,
   "metadata": {
    "collapsed": true,
    "scrolled": true
   },
   "outputs": [],
   "source": [
    "### Task 3: Create new feature(s)\n",
    "# Features: \n",
    "# - from_poi_to_this_person_ratio\n",
    "# - from_this_person_to_poi\n",
    "from feature_engineering import compute_poi_email_ratio\n",
    "\n",
    "my_df['from_poi_to_this_person_ratio'] = my_df.apply(lambda row: compute_poi_email_ratio(\n",
    "    row['from_poi_to_this_person'], row['to_messages']), axis=1)\n",
    "my_df['from_this_person_to_poi_ratio'] = my_df.apply(lambda row: compute_poi_email_ratio(\n",
    "    row['from_this_person_to_poi'], row['from_messages']), axis=1)"
   ]
  },
  {
   "cell_type": "code",
   "execution_count": 16,
   "metadata": {
    "collapsed": true,
    "scrolled": true
   },
   "outputs": [],
   "source": [
    "### Task 3: Create new feature(s)\n",
    "# Features: \n",
    "# - email_addresses_per_poi\n",
    "# - poi_mention_rate\n",
    "import numpy as np\n",
    "from feature_engineering import poi_email_dict, find_pois_in_data_point, poi_vectorizer, compute_email_addresses_per_poi, compute_poi_mention_rate\n",
    "\n",
    "# high rate of mentioned pois: keep it!\n",
    "# high rate of email addresses per poi: keep it!\n",
    "\n",
    "vectorizer = poi_vectorizer(poi_email_dict)\n",
    "n_pois = len(my_df[my_df['poi'] == True].index)\n",
    "\n",
    "def compute_email_addresses_per_poi_df(row):\n",
    "    found_pois, poi_count = find_pois_in_data_point(row, vectorizer, poi_email_dict)\n",
    "    return compute_email_addresses_per_poi(found_pois, poi_count)\n",
    "\n",
    "def compute_poi_mention_rate_df(row):\n",
    "    _, poi_count = find_pois_in_data_point(row, vectorizer, poi_email_dict)\n",
    "    return compute_poi_mention_rate(poi_count, n_pois)\n",
    "\n",
    "my_df['email_addresses_per_poi'] = my_df.apply(lambda row: compute_email_addresses_per_poi_df(row), axis=1)\n",
    "my_df['poi_mention_rate'] = my_df.apply(lambda row: compute_poi_mention_rate_df(row), axis=1)"
   ]
  },
  {
   "cell_type": "code",
   "execution_count": 17,
   "metadata": {},
   "outputs": [
    {
     "data": {
      "image/png": "[encoded data removed]",
      "text/plain": [
       "<matplotlib.figure.Figure at 0x7fe1a4e69c50>"
      ]
     },
     "metadata": {},
     "output_type": "display_data"
    }
   ],
   "source": [
    "from visualisation import dist_plot\n",
    "\n",
    "dist_plot(my_df[my_df['email_addresses_per_poi'] > 0]['email_addresses_per_poi'].values)"
   ]
  },
  {
   "cell_type": "code",
   "execution_count": 18,
   "metadata": {},
   "outputs": [
    {
     "data": {
      "image/png": "[encoded data removed]",
      "text/plain": [
       "<matplotlib.figure.Figure at 0x7fe1a4e44510>"
      ]
     },
     "metadata": {},
     "output_type": "display_data"
    }
   ],
   "source": [
    "dist_plot(my_df[my_df['poi_mention_rate'] > 0.]['poi_mention_rate'].values)"
   ]
  },
  {
   "cell_type": "code",
   "execution_count": null,
   "metadata": {
    "collapsed": true
   },
   "outputs": [],
   "source": [
    "### Task 3: Create new feature(s)\n",
    "# Features:\n",
    "# - common_vocabulary (failed, not using it in poi_id.py)\n",
    "# try to find vocabulary patterns between potencial POIs\n",
    "from sklearn.feature_extraction.text import TfidfVectorizer\n",
    "from sklearn.feature_selection import SelectPercentile, f_classif\n",
    "from sklearn import cross_validation\n",
    "from feature_engineering import get_email_data_from_pois\n",
    "from sklearn.cluster import KMeans\n",
    "\n",
    "email_data, email_authors = get_email_data_from_pois(my_dataset)\n",
    "vocabf_train, vocabf_test, vocabl_train, vocabl_test = cross_validation.train_test_split(email_data, email_authors, test_size=0.1, random_state=42)\n",
    "\n",
    "vectorizer = TfidfVectorizer(sublinear_tf=True, max_df=0.1, stop_words='english')\n",
    "vocabf_train_transformed = vectorizer.fit_transform(vocabf_train)\n",
    "vocabf_test_transformed  = vectorizer.transform(vocabf_test)\n",
    "\n",
    "selector = SelectPercentile(f_classif, percentile=10)\n",
    "selector.fit(vocabf_train_transformed, vocabl_train)\n",
    "vocabf_train_transformed = selector.transform(vocabf_train_transformed).toarray()\n",
    "vocabf_test_transformed  = selector.transform(vocabf_test_transformed).toarray()\n",
    "n_clusters = len(set(vocabl_train))\n",
    "print 'Training KMeans with %d clusters.' % n_clusters\n",
    "email_cluster = KMeans(n_clusters=n_clusters, random_state=42)\n",
    "email_cluster.fit(vocabf_train_transformed, vocabl_train)\n",
    "dist_plot(email_cluster.labels_)"
   ]
  },
  {
   "cell_type": "code",
   "execution_count": null,
   "metadata": {
    "collapsed": true
   },
   "outputs": [],
   "source": [
    "# Testing email text cluster\n",
    "text_p = vectorizer.transform(\"\"\"For this, you will not only be a critical part of Enron's history, but you will also always deserve Enron's gratitude.\"\"\".split())\n",
    "text_p = selector.transform(text_p)\n",
    "display(email_cluster.predict(text_p.todense()))"
   ]
  },
  {
   "cell_type": "code",
   "execution_count": 20,
   "metadata": {
    "scrolled": false
   },
   "outputs": [
    {
     "data": {
      "image/png": "[encoded data removed]",
      "text/plain": [
       "<matplotlib.figure.Figure at 0x7fe19d0a4e10>"
      ]
     },
     "metadata": {},
     "output_type": "display_data"
    },
    {
     "data": {
      "image/png": "[encoded data removed]",
      "text/plain": [
       "<matplotlib.figure.Figure at 0x7fe19d0a4e90>"
      ]
     },
     "metadata": {},
     "output_type": "display_data"
    },
    {
     "data": {
      "image/png": "[encoded data removed]",
      "text/plain": [
       "<matplotlib.figure.Figure at 0x7fe1a508ce90>"
      ]
     },
     "metadata": {},
     "output_type": "display_data"
    },
    {
     "data": {
      "image/png": "[encoded data removed]",
      "text/plain": [
       "<matplotlib.figure.Figure at 0x7fe19ca9a3d0>"
      ]
     },
     "metadata": {},
     "output_type": "display_data"
    },
    {
     "data": {
      "image/png": "[encoded data removed]",
      "text/plain": [
       "<matplotlib.figure.Figure at 0x7fe1a508ce50>"
      ]
     },
     "metadata": {},
     "output_type": "display_data"
    },
    {
     "data": {
      "image/png": "[encoded data removed]",
      "text/plain": [
       "<matplotlib.figure.Figure at 0x7fe19ca55cd0>"
      ]
     },
     "metadata": {},
     "output_type": "display_data"
    },
    {
     "data": {
      "image/png": "[encoded data removed]",
      "text/plain": [
       "<matplotlib.figure.Figure at 0x7fe1a4f43810>"
      ]
     },
     "metadata": {},
     "output_type": "display_data"
    }
   ],
   "source": [
    "# Feature Scaling\n",
    "from visualisation import dist_plot\n",
    "from feature_engineering import scale_feature_df\n",
    "\n",
    "\n",
    "my_df['salary_scaled'] = scale_feature_df(my_df, 'salary')\n",
    "my_df['bonus_scaled'] = scale_feature_df(my_df, 'bonus')\n",
    "my_df['director_fees_scaled'] = scale_feature_df(my_df, 'director_fees')\n",
    "my_df['other_scaled'] = scale_feature_df(my_df, 'other')\n",
    "my_df['exercised_stock_options_scaled'] = scale_feature_df(my_df, 'exercised_stock_options')\n",
    "my_df['expenses_scaled'] = scale_feature_df(my_df, 'expenses')\n",
    "my_df['email_addresses_per_poi_scaled'] = scale_feature_df(my_df, 'email_addresses_per_poi')\n",
    "\n",
    "dist_plot(my_df['salary_scaled'].values)\n",
    "dist_plot(my_df['bonus_scaled'])\n",
    "dist_plot(my_df['director_fees_scaled'])\n",
    "dist_plot(my_df['other_scaled'])\n",
    "dist_plot(my_df['exercised_stock_options_scaled'])\n",
    "dist_plot(my_df['expenses_scaled'])\n",
    "dist_plot(my_df['email_addresses_per_poi_scaled'])"
   ]
  },
  {
   "cell_type": "code",
   "execution_count": 21,
   "metadata": {
    "collapsed": true
   },
   "outputs": [],
   "source": [
    "### Task 4: Try a variety of classifiers\n",
    "features_list = ['poi', 'salary_scaled', 'bonus_scaled', 'director_fees_scaled', \n",
    "                 'other_scaled', 'exercised_stock_options_scaled', 'expenses_scaled', \n",
    "                 'email_addresses_per_poi_scaled', 'poi_mention_rate']\n",
    "\n",
    "# convert it back to dict, so that I can use featureFormat and targetFeatureSplit functions\n",
    "my_dataset = my_df.to_dict(orient='index')\n",
    "### Extract features and labels from dataset for local testing\n",
    "#data = featureFormat(my_dataset, features_list, sort_keys = True)\n",
    "#labels, features = targetFeatureSplit(data)\n",
    "\n",
    "#from sklearn.model_selection import train_test_split\n",
    "#features_train, features_test, labels_train, labels_test = train_test_split(features, labels, test_size=0.5, random_state=42, shuffle=False)\n",
    "#display(labels_test)"
   ]
  },
  {
   "cell_type": "code",
   "execution_count": 22,
   "metadata": {
    "collapsed": true
   },
   "outputs": [],
   "source": [
    "### Task 4: Try a variety of classifiers\n",
    "### Please name your classifier clf for easy export below.\n",
    "### Note that if you want to do PCA or other multi-stage operations,\n",
    "### you'll need to use Pipelines. For more info:\n",
    "### http://scikit-learn.org/stable/modules/pipeline.html\n",
    "\n",
    "# Provided to give you a starting point. Try a variety of classifiers.\n",
    "#from sklearn.naive_bayes import GaussianNB\n",
    "#clf = GaussianNB()\n",
    "\n",
    "# classifier.py\n",
    "from sklearn.pipeline import Pipeline\n",
    "from sklearn.svm import SVC\n",
    "from sklearn.decomposition import PCA\n",
    "from sklearn.model_selection import GridSearchCV\n",
    "from sklearn.feature_selection import SelectKBest\n",
    "from sklearn.ensemble import RandomForestClassifier"
   ]
  },
  {
   "cell_type": "code",
   "execution_count": 24,
   "metadata": {},
   "outputs": [
    {
     "name": "stdout",
     "output_type": "stream",
     "text": [
      "testing classifier...\n",
      "Pipeline(memory=None,\n",
      "     steps=[('feature_selection', SelectKBest(k=2, score_func=<function f_classif at 0x7fe1a9cbced8>)), ('reduce_dim', PCA(copy=True, iterated_power='auto', n_components=2, random_state=42,\n",
      "  svd_solver='auto', tol=0.0, whiten=False)), ('clf', RandomForestClassifier(bootstrap=True, class_weight=None, cri...stimators=40, n_jobs=1,\n",
      "            oob_score=False, random_state=42, verbose=0, warm_start=False))])\n",
      "\tAccuracy: 0.88487\tPrecision: 0.62353\tRecall: 0.34450\tF1: 0.44380\tF2: 0.37836\n",
      "\tTotal predictions: 15000\tTrue positives:  689\tFalse positives:  416\tFalse negatives: 1311\tTrue negatives: 12584\n",
      "\n",
      "elapsed time: 81.5108411312 seconds\n"
     ]
    }
   ],
   "source": [
    "# RandomForestClassifier test\n",
    "param_grid = dict(\n",
    "    #reduce_dim__n_components=[1,2],\n",
    "                  #feature_selection__k=[2,3,4,5,'all']\n",
    "                 )\n",
    "\n",
    "# Accuracy: 0.86407\tPrecision: 0.48490\tRecall: 0.31300\tF1: 0.38043\tF2: 0.33689\n",
    "steps = [\n",
    "    ('feature_selection', SelectKBest(k=2)), \n",
    "    ('reduce_dim', PCA(random_state=42, n_components=2)), \n",
    "    ('clf', RandomForestClassifier(n_estimators=40, random_state=42))]\n",
    "clf = Pipeline(steps)\n",
    "#grid_search = GridSearchCV(pipe, param_grid=param_grid)\n",
    "#grid_search.fit(features_train, labels_train)\n",
    "#display(grid_search)\n",
    "#pred = grid_search.predict(features_test)\n",
    "#display(pred)\n",
    "#display(grid_search.score(features_test, labels_test))  # 0.86206896551724133\n",
    "\n",
    "from tester import test_classifier\n",
    "print 'testing classifier...'\n",
    "t0 = time()\n",
    "test_classifier(clf=clf, dataset=my_dataset, feature_list=features_list)\n",
    "print 'elapsed time: %s seconds' % (time() - t0)"
   ]
  },
  {
   "cell_type": "code",
   "execution_count": 25,
   "metadata": {},
   "outputs": [
    {
     "data": {
      "text/plain": [
       "[('poi_mention_rate', 37.738144145596294),\n",
       " ('exercised_stock_options_scaled', 29.149616495359883),\n",
       " ('email_addresses_per_poi_scaled', 18.876489899411894),\n",
       " ('bonus_scaled', 17.299191264799362),\n",
       " ('salary_scaled', 11.504360571028441),\n",
       " ('other_scaled', 4.2584854563227426),\n",
       " ('expenses_scaled', 0.32758282468103472),\n",
       " ('director_fees_scaled', 0.19044465704543861)]"
      ]
     },
     "metadata": {},
     "output_type": "display_data"
    }
   ],
   "source": [
    "selector = clf.named_steps['feature_selection']\n",
    "feature_scores = sorted([(f,s) for f,s in zip(features_list[1:], selector.scores_)], key=lambda x: x[1], reverse=True)\n",
    "display(feature_scores)"
   ]
  },
  {
   "cell_type": "code",
   "execution_count": 26,
   "metadata": {
    "scrolled": true
   },
   "outputs": [
    {
     "name": "stdout",
     "output_type": "stream",
     "text": [
      "testing classifier...\n",
      "Pipeline(memory=None,\n",
      "     steps=[('feature_selection', SelectKBest(k=6, score_func=<function f_classif at 0x7fe1a9cbced8>)), ('reduce_dim', PCA(copy=True, iterated_power='auto', n_components=6, random_state=42,\n",
      "  svd_solver='auto', tol=0.0, whiten=False)), ('clf', SVC(C=23000, cache_size=200, class_weight=None, coef0=0.0,\n",
      "  decision_function_shape='ovr', degree=3, gamma=0.587, kernel='rbf',\n",
      "  max_iter=-1, probability=False, random_state=42, shrinking=True,\n",
      "  tol=0.001, verbose=False))])\n",
      "\tAccuracy: 0.86173\tPrecision: 0.47383\tRecall: 0.33500\tF1: 0.39250\tF2: 0.35585\n",
      "\tTotal predictions: 15000\tTrue positives:  670\tFalse positives:  744\tFalse negatives: 1330\tTrue negatives: 12256\n",
      "\n",
      "elapsed time: 6.72744107246 seconds\n"
     ]
    }
   ],
   "source": [
    "# SVC test\n",
    "param_grid = dict(\n",
    "    #reduce_dim__n_components=[1,2],\n",
    "                  #feature_selection__k=[2,5,'all'],\n",
    "                  clf__kernel=['linear', 'rbf'],\n",
    "                  clf__C=[1.,1000.,10000.],\n",
    "                  clf__gamma=[0.1,0.5,1.0,'auto'])\n",
    "\n",
    "# Accuracy: 0.81040\tPrecision: 0.29554\tRecall: 0.30500\tF1: 0.30020\tF2: 0.30306\n",
    "steps = [\n",
    "    ('feature_selection', SelectKBest(k=6)), \n",
    "    ('reduce_dim', PCA(random_state=42, n_components=6)), \n",
    "    ('clf', SVC(random_state=42, kernel='rbf', C=23000, gamma=.587))]\n",
    "clf = Pipeline(steps)\n",
    "\n",
    "#grid_search = GridSearchCV(pipe, param_grid=param_grid)\n",
    "#grid_search.fit(features_train, labels_train)\n",
    "#display(grid_search)\n",
    "#pred = grid_search.predict(features_test)\n",
    "#display(pred)\n",
    "#display(grid_search.score(features_test, labels_test))  # 0.89655172413793105\n",
    "\n",
    "from tester import test_classifier\n",
    "print 'testing classifier...'\n",
    "t0 = time()\n",
    "test_classifier(clf=clf, dataset=my_dataset, feature_list=features_list)\n",
    "print 'elapsed time: %s seconds' % (time() - t0)"
   ]
  },
  {
   "cell_type": "code",
   "execution_count": 27,
   "metadata": {},
   "outputs": [
    {
     "data": {
      "text/plain": [
       "[('poi_mention_rate', 37.738144145596294),\n",
       " ('exercised_stock_options_scaled', 29.149616495359883),\n",
       " ('email_addresses_per_poi_scaled', 18.876489899411894),\n",
       " ('bonus_scaled', 17.299191264799362),\n",
       " ('salary_scaled', 11.504360571028441),\n",
       " ('other_scaled', 4.2584854563227426),\n",
       " ('expenses_scaled', 0.32758282468103472),\n",
       " ('director_fees_scaled', 0.19044465704543861)]"
      ]
     },
     "metadata": {},
     "output_type": "display_data"
    }
   ],
   "source": [
    "selector = clf.named_steps['feature_selection']\n",
    "feature_scores = sorted([(f,s) for f,s in zip(features_list[1:], selector.scores_)], key=lambda x: x[1], reverse=True)\n",
    "display(feature_scores)"
   ]
  },
  {
   "cell_type": "code",
   "execution_count": 28,
   "metadata": {
    "scrolled": true
   },
   "outputs": [
    {
     "name": "stdout",
     "output_type": "stream",
     "text": [
      "testing classifier...\n",
      "Pipeline(memory=None,\n",
      "     steps=[('feature_selection', SelectKBest(k=2, score_func=<function f_classif at 0x7fe1a9cbced8>)), ('reduce_dim', PCA(copy=True, iterated_power='auto', n_components=2, random_state=42,\n",
      "  svd_solver='auto', tol=0.0, whiten=False)), ('clf', AdaBoostClassifier(algorithm='SAMME.R', base_estimator=None,\n",
      "          learning_rate=1.0, n_estimators=40, random_state=42))])\n",
      "\tAccuracy: 0.88420\tPrecision: 0.61211\tRecall: 0.35900\tF1: 0.45257\tF2: 0.39137\n",
      "\tTotal predictions: 15000\tTrue positives:  718\tFalse positives:  455\tFalse negatives: 1282\tTrue negatives: 12545\n",
      "\n",
      "elapsed time: 67.3188591003 seconds\n"
     ]
    }
   ],
   "source": [
    "# AdaBoostClassifier\n",
    "from sklearn.ensemble import AdaBoostClassifier\n",
    "from sklearn.tree import DecisionTreeClassifier\n",
    "from sklearn.neighbors import KNeighborsClassifier\n",
    "from sklearn.naive_bayes import GaussianNB\n",
    "\n",
    "param_grid = dict(\n",
    "    #reduce_dim__n_components=[1,2],\n",
    "                  #feature_selection__k=[2,5,'all'],\n",
    "                  #clf__base_estimator=[DecisionTreeClassifier(), SVC(C=10000, random_state=42, gamma=0.5), GaussianNB()],\n",
    "                  #clf__n_estimators=[10,50,100],\n",
    "                  #clf__learning_rate=[0.9,1.]\n",
    ")\n",
    "\n",
    "# Accuracy: 0.85460\tPrecision: 0.43806\tRecall: 0.32000\tF1: 0.36984\tF2: 0.33823\n",
    "steps = [\n",
    "    ('feature_selection', SelectKBest(k=2)), \n",
    "    ('reduce_dim', PCA(random_state=42, n_components=2)), \n",
    "    ('clf', AdaBoostClassifier(algorithm='SAMME.R', random_state=42, n_estimators=40, learning_rate=1.))]\n",
    "pipe = Pipeline(steps)\n",
    "\n",
    "#grid_search = GridSearchCV(pipe, param_grid=param_grid)\n",
    "#grid_search.fit(features_train, labels_train)\n",
    "#display(grid_search)\n",
    "#pred = grid_search.predict(features_test)\n",
    "#display(pred)\n",
    "#display(grid_search.score(features_test, labels_test))  # 0.89655172413793105\n",
    "\n",
    "from tester import test_classifier\n",
    "print 'testing classifier...'\n",
    "t0 = time()\n",
    "test_classifier(clf=pipe, dataset=my_dataset, feature_list=features_list)\n",
    "print 'elapsed time: %s seconds' % (time() - t0)"
   ]
  },
  {
   "cell_type": "code",
   "execution_count": 29,
   "metadata": {},
   "outputs": [
    {
     "data": {
      "text/plain": [
       "[('poi_mention_rate', 37.738144145596294),\n",
       " ('exercised_stock_options_scaled', 29.149616495359883),\n",
       " ('email_addresses_per_poi_scaled', 18.876489899411894),\n",
       " ('bonus_scaled', 17.299191264799362),\n",
       " ('salary_scaled', 11.504360571028441),\n",
       " ('other_scaled', 4.2584854563227426),\n",
       " ('expenses_scaled', 0.32758282468103472),\n",
       " ('director_fees_scaled', 0.19044465704543861)]"
      ]
     },
     "metadata": {},
     "output_type": "display_data"
    }
   ],
   "source": [
    "selector = clf.named_steps['feature_selection']\n",
    "feature_scores = sorted([(f,s) for f,s in zip(features_list[1:], selector.scores_)], key=lambda x: x[1], reverse=True)\n",
    "display(feature_scores)"
   ]
  },
  {
   "cell_type": "code",
   "execution_count": 30,
   "metadata": {
    "scrolled": false
   },
   "outputs": [
    {
     "name": "stdout",
     "output_type": "stream",
     "text": [
      "testing classifier...\n",
      "Pipeline(memory=None,\n",
      "     steps=[('feature_selection', SelectKBest(k=2, score_func=<function f_classif at 0x7fe1a9cbced8>)), ('reduce_dim', PCA(copy=True, iterated_power='auto', n_components=2, random_state=42,\n",
      "  svd_solver='auto', tol=0.0, whiten=False)), ('clf', KNeighborsClassifier(algorithm='auto', leaf_size=4, metric='minkowski',\n",
      "           metric_params=None, n_jobs=1, n_neighbors=4, p=2,\n",
      "           weights='distance'))])\n",
      "\tAccuracy: 0.88353\tPrecision: 0.63136\tRecall: 0.30400\tF1: 0.41039\tF2: 0.33917\n",
      "\tTotal predictions: 15000\tTrue positives:  608\tFalse positives:  355\tFalse negatives: 1392\tTrue negatives: 12645\n",
      "\n",
      "elapsed time: 1.90816092491 seconds\n"
     ]
    }
   ],
   "source": [
    "# KNeighborsClassifier\n",
    "from sklearn.neighbors import KNeighborsClassifier\n",
    "\n",
    "param_grid = dict(\n",
    "                  #reduce_dim__n_components=[1,2],\n",
    "                  #feature_selection__k=[2,4,6,'all'],\n",
    "                  #clf__n_neighbors=[2,3,4,5],\n",
    "                  #clf__weights=['uniform','distance'],\n",
    "                  #clf__algorithm=['auto','ball_tree','kd_tree','brute'],\n",
    "                  #clf__leaf_size=[2,3,4,5],\n",
    "                  #clf__p=[1,2]\n",
    ")\n",
    "\n",
    "# Accuracy: 0.84753\tPrecision: 0.41147\tRecall: 0.33350\tF1: 0.36841\tF2: 0.34664\n",
    "steps = [\n",
    "    ('feature_selection', SelectKBest(k=2)), \n",
    "    ('reduce_dim', PCA(random_state=42, n_components=2)), \n",
    "    ('clf', KNeighborsClassifier(algorithm='auto', leaf_size=4, n_neighbors=4, p=2, weights='distance'))\n",
    "]\n",
    "clf = Pipeline(steps)\n",
    "#grid_search = GridSearchCV(pipe, param_grid=param_grid)\n",
    "#grid_search.fit(features_train, labels_train)\n",
    "#display(grid_search)\n",
    "#pred = grid_search.predict(features_test)\n",
    "#display(pred)\n",
    "#display(grid_search.score(features_test, labels_test))  # 0.86206896551724133\n",
    "\n",
    "from tester import test_classifier\n",
    "print 'testing classifier...'\n",
    "t0 = time()\n",
    "test_classifier(clf=clf, dataset=my_dataset, feature_list=features_list)\n",
    "print 'elapsed time: %s seconds' % (time() - t0)"
   ]
  },
  {
   "cell_type": "code",
   "execution_count": 31,
   "metadata": {},
   "outputs": [
    {
     "data": {
      "text/plain": [
       "[('poi_mention_rate', 37.738144145596294),\n",
       " ('exercised_stock_options_scaled', 29.149616495359883),\n",
       " ('email_addresses_per_poi_scaled', 18.876489899411894),\n",
       " ('bonus_scaled', 17.299191264799362),\n",
       " ('salary_scaled', 11.504360571028441),\n",
       " ('other_scaled', 4.2584854563227426),\n",
       " ('expenses_scaled', 0.32758282468103472),\n",
       " ('director_fees_scaled', 0.19044465704543861)]"
      ]
     },
     "execution_count": 31,
     "metadata": {},
     "output_type": "execute_result"
    }
   ],
   "source": [
    "# get SelectKBest results after training to use underneath\n",
    "selector = clf.named_steps['feature_selection']\n",
    "feature_scores = sorted([(f,s) for f,s in zip(features_list[1:], selector.scores_)], key=lambda x: x[1], reverse=True)\n",
    "feature_scores"
   ]
  },
  {
   "cell_type": "code",
   "execution_count": 20,
   "metadata": {
    "collapsed": true
   },
   "outputs": [],
   "source": [
    "### Task 6: Dump your classifier, dataset, and features_list so anyone can\n",
    "### check your results. You do not need to change anything below, but make sure\n",
    "### that the version of poi_id.py that you submit can be run on its own and\n",
    "### generates the necessary .pkl files for validating your results.\n",
    "dump_classifier_and_data(clf, my_dataset, features_list)"
   ]
  },
  {
   "cell_type": "code",
   "execution_count": 32,
   "metadata": {},
   "outputs": [
    {
     "name": "stdout",
     "output_type": "stream",
     "text": [
      "Pipeline(memory=None,\n",
      "     steps=[('feature_selection', SelectKBest(k=2, score_func=<function f_classif at 0x7fe1a9cbced8>)), ('reduce_dim', PCA(copy=True, iterated_power='auto', n_components=2, random_state=42,\n",
      "  svd_solver='auto', tol=0.0, whiten=False)), ('clf', KNeighborsClassifier(algorithm='auto', leaf_size=4, metric='minkowski',\n",
      "           metric_params=None, n_jobs=1, n_neighbors=4, p=2,\n",
      "           weights='distance'))])\n",
      "\tAccuracy: 0.88960\tPrecision: 0.66863\tRecall: 0.34100\tF1: 0.45166\tF2: 0.37805\n",
      "\tTotal predictions: 15000\tTrue positives:  682\tFalse positives:  338\tFalse negatives: 1318\tTrue negatives: 12662\n",
      "\n"
     ]
    }
   ],
   "source": [
    "# tester.py\n",
    "from tester import main as project_tester\n",
    "project_tester()"
   ]
  },
  {
   "cell_type": "markdown",
   "metadata": {},
   "source": [
    "# Process Comments\n",
    "## Outlier Removal\n",
    "\n",
    "* I've found [this](https://discussions.udacity.com/t/seems-like-a-gremlin-in-the-data/296901) about a difference between Udacity's and FindLaw's datasets, but I don't find it relevan for the purpose of this project.\n",
    "* Apart from the well known TOTAL data point, I consider other outliers actually useful, since we are looking for persons of interest, who are precisely not part of the average.\n",
    "\n",
    "## Feature Scaling\n",
    "\n",
    "* NaN treatment: I will assign the median salary to data points with missing values, since this average is not affected by outliers as mean is.\n",
    "\n",
    "## Feature Engineering\n",
    "All new feature logic is implemented in *feature_engineering.py* file. Functions with prefix *compute_* are used to get the final values for the dataset.\n",
    "\n",
    "* **from_poi_to_this_person_ratio**: number of messages received from a POI divided by the number of all received messages\n",
    "* **from_this_person_to_poi_ratio**: number of messages sent to a POI divided by the number of all sent messages\n",
    "* **email_addresses_per_poi**: amount of email addresses referring to the same POI divided by the number of POIs mentioned in all emails from/to a person\n",
    "* **poi_mention_rate**: amount of emails where a POI is mentioned divided by all emails from/to a person\n",
    "* **common_vocabulary (failed)**: The idea was to create clusters of vocabulary from email text in order to detect possible POI patterns, setting TfIdfVectorizer to index only up to 10% document frequency, selecting 10% of vocabulary afterwards, and finally training a KMeans object with n_clusters=number of unique recognised POIs. There are two problems here: First, it predicts the same cluster almost all the time. The second problem is that I don't get only one label, but an array of labels with variable size, depending on how long the email text is. It seems that I have to learn more about this implementation. For the purpose of this project, I'd rather not use this feature for now.\n",
    "\n",
    "## Classifier Selection\n",
    "Given the following results, I will keep *KNeighborsClassifier*. Results are quite similar to AdaBoostClassifier, but KNeighborsClassifier was much more efficient in processing time. \n",
    "\n",
    "### RandomForestClassifier\n",
    "* Accuracy: 0.88487\tPrecision: 0.62353\tRecall: 0.34450\tF1: 0.44380\tF2: 0.37836\n",
    "* Total predictions: 15000\tTrue positives:  689\tFalse positives:  416\tFalse negatives: 1311\tTrue negatives: 12584\n",
    "* Elapsed time: 490.22569418 seconds\n",
    "\n",
    "### SVC\n",
    "* Accuracy: 0.86173\tPrecision: 0.47383\tRecall: 0.33500\tF1: 0.39250\tF2: 0.35585\n",
    "* Total predictions: 15000\tTrue positives:  670\tFalse positives:  744\tFalse negatives: 1330\tTrue negatives: 12256\n",
    "* Elapsed time: 6.6656460762 seconds\n",
    "* What is really remarkable from SVM is that it had better performance with more features. I got these results selecting the best 6.\n",
    "\n",
    "### AdaBoostClassifier\n",
    "* Accuracy: 0.88420\tPrecision: 0.61211\tRecall: 0.35900\tF1: 0.45257\tF2: 0.39137\n",
    "\tTotal predictions: 15000\tTrue positives:  718\tFalse positives:  455\tFalse negatives: 1282\tTrue negatives: 12545\n",
    "* Elapsed time: 71.661303997 seconds\n",
    "\n",
    "### KNeighborsClassifier\n",
    "* Accuracy: 0.88353\tPrecision: 0.63136\tRecall: 0.30400\tF1: 0.41039\tF2: 0.33917\n",
    "* Total predictions: 15000\tTrue positives:  608\tFalse positives:  355\tFalse negatives: 1392\tTrue negatives: 12645\n",
    "* Elapsed time: 1.72607684135 seconds"
   ]
  },
  {
   "cell_type": "markdown",
   "metadata": {},
   "source": [
    "## Enron Submission Free-Response Questions"
   ]
  },
  {
   "cell_type": "markdown",
   "metadata": {},
   "source": [
    "### Question 1 \n",
    "Summarize for us the goal of this project and how machine learning is useful in trying to accomplish it. As part of your answer, give some background on the dataset and how it can be used to answer the project question. Were there any outliers in the data when you got it, and how did you handle those?  [relevant rubric items: “data exploration”, “outlier investigation”]\n",
    "\n",
    "### Answer\n",
    "The goal of this project consist of creating a machine learning algorithm able to predict whether a person from a given data set could be a person of interest, meaning a person suspected to be corrupt and involved in the fraud.\n",
    "Machine learning can help in this task by quantifying information, selecting the most useful variables and applying a predictive model to calculate the probability of being a person of interest for each row of the dataset, and finally testing the results to see how accurate the model was.\n",
    "\n",
    "There were many outliers in the data set. However, most of them were actually useful because that's what we wanted to find. Only one outlier was actually wrong information, the one with key *TOTAL*, and I removed it.\n",
    "\n",
    "This is a quick summary of the dataset:\n",
    "\n",
    "* total number of data points: 146\n",
    "* outliers: 3\n",
    "* allocation across classes (POI/non-POI): 18 POI/125 non-POI\n",
    "* number of features used: 6\n",
    "\n",
    "##### Features with many missing values\n",
    "* Salary: 51\n",
    "* Bonus: 64\n",
    "* Deferral Payments: 107\n",
    "* Deferred Income: 97\n",
    "* Director Fees: 129\n",
    "* Email Address: 34\n",
    "* Exercised Stock Options: 44\n",
    "* Expenses: 51\n",
    "* Messages (from): 59\n",
    "* From POI to this person: 59\n",
    "* From this person to POI: 59\n",
    "* Loan Advances: 142\n",
    "* Long Term Incentive: 80\n",
    "* Other: 53\n",
    "* Restricted Stock: 36\n",
    "* Restricted Stock Deferred: 128\n",
    "* Salary: 51\n",
    "* Shared Receipt with POI: 59\n",
    "* Messages (to): 59\n",
    "* Total Payments: 21\n",
    "* Total Stock Value: 20"
   ]
  },
  {
   "cell_type": "markdown",
   "metadata": {
    "variables": {
     "feature_scores[0][0]": "poi_mention_rate",
     "feature_scores[1][0]": "exercised_stock_options_scaled",
     "feature_scores[2][0]": "email_addresses_per_poi_scaled",
     "feature_scores[3][0]": "bonus_scaled",
     "feature_scores[4][0]": "salary_scaled",
     "feature_scores[5][0]": "other_scaled",
     "feature_scores[6][0]": "expenses_scaled",
     "feature_scores[7][0]": "director_fees_scaled",
     "round(feature_scores[0][1],4)": "37.7381",
     "round(feature_scores[1][1],4)": "29.1496",
     "round(feature_scores[2][1],4)": "18.8765",
     "round(feature_scores[3][1],4)": "17.2992",
     "round(feature_scores[4][1],4)": "11.5044",
     "round(feature_scores[5][1],4)": "4.2585",
     "round(feature_scores[6][1],4)": "0.3276",
     "round(feature_scores[7][1],4)": "0.1904"
    }
   },
   "source": [
    "### Question 2\n",
    "What features did you end up using in your POI identifier, and what selection process did you use to pick them? Did you have to do any scaling? Why or why not? As part of the assignment, you should attempt to engineer your own feature that does not come ready-made in the dataset -- explain what feature you tried to make, and the rationale behind it. (You do not necessarily have to use it in the final analysis, only engineer and test it.) In your feature selection step, if you used an algorithm like a decision tree, please also give the feature importances of the features that you use, and if you used an automated feature selection function like SelectKBest, please report the feature scores and reasons for your choice of parameter values.  [relevant rubric items: “create new features”, “intelligently select features”, “properly scale features”]\n",
    "\n",
    "### Answer\n",
    "From the original data set, I considered important to use *salary*, *bonus*, *director_fees*, *exercised_stock_options*, and *other* individually important. I didn't take *total_payments* as a whole because the sum of the values could hide possible suspicious patterns.\n",
    "\n",
    "I also created new features: *poi_mention_rate* (pois mentioned in email bodies related to each person), *email_addresses_per_poi* (number of email addresses used by a person referring to the same POI), and *common_vocabulary* (failed and not used feature, as you can see above in this Notebook).\n",
    "\n",
    "#### Feature Scaling\n",
    "I scaled features using MinMaxScaler, setting missing values using the median of each column, as it's not affected by outliers:\n",
    "\n",
    "* salary_scaled\n",
    "* bonus_scaled\n",
    "* director_fees_scaled\n",
    "* other_scaled\n",
    "* exercised_stock_options_scaled\n",
    "* expenses_scaled\n",
    "* email_addresses_per_poi_scaled\n",
    "\n",
    "#### Feature Scores\n",
    "I used SelectKBest to get a good feature importance.\n",
    "\n",
    "* poi_mention_rate: 37.7381\n",
    "* exercised_stock_options_scaled: 29.1496\n",
    "* email_addresses_per_poi_scaled: 18.8765\n",
    "* bonus_scaled: 17.2992\n",
    "* salary_scaled: 11.5044\n",
    "* other_scaled: 4.2585\n",
    "* expenses_scaled: 0.3276\n",
    "* director_fees_scaled: 0.1904\n",
    "\n",
    "#### Classifier Results using this feature selection configuration\n",
    "Accuracy: 0.88353\tPrecision: 0.63136\tRecall: 0.30400\tF1: 0.41039\tF2: 0.33917\n",
    "\n",
    "#### Not including poi_mention_rate\n",
    "Accuracy: 0.83880\tPrecision: 0.32378\tRecall: 0.19200\tF1: 0.24105\tF2: 0.20901\n",
    "\n",
    "#### Not including email_addresses_per_poi_scaled\n",
    "Accuracy: 0.88507\tPrecision: 0.63663\tRecall: 0.32150\tF1: 0.42724\tF2: 0.35683\n",
    "\n",
    "#### Using only scaled versions of original features\n",
    "Accuracy: 0.84773\tPrecision: 0.41278\tRecall: 0.33600\tF1: 0.37045\tF2: 0.34898"
   ]
  },
  {
   "cell_type": "markdown",
   "metadata": {},
   "source": [
    "### Question 3\n",
    "What algorithm did you end up using? What other one(s) did you try? How did model performance differ between algorithms?  [relevant rubric item: “pick an algorithm”]\n",
    "\n",
    "### Answer\n",
    "I tested the following classifiers, using SelectKBest with *k=2*, and PCA with *n_components=2* (after testing different parameters) in a Pipeline: RandomForestClassifier, SVC, AdaBoostClassifier, KNeighborsClassifier.\n",
    "\n",
    "The only exception was SVC, which had a better performance with SelectKBest set as *k=6* instead of 2.\n",
    "\n",
    "My final decision was KNeighborsClassifier. As you can see above in my [comments](#Classifier-Selection), its accuracy was one of the best, as well as its precision, but recall was the lowest among the classifiers I tested. Though, above 0.3, as required. KNeighborsClassifier was also much faster than other classifiers. I think this also counts a lot when working with big datasets."
   ]
  },
  {
   "cell_type": "markdown",
   "metadata": {},
   "source": [
    "### Question 4\n",
    "What does it mean to tune the parameters of an algorithm, and what can happen if you don’t do this well?  How did you tune the parameters of your particular algorithm? What parameters did you tune? (Some algorithms do not have parameters that you need to tune -- if this is the case for the one you picked, identify and briefly explain how you would have done it for the model that was not your final choice or a different model that does utilize parameter tuning, e.g. a decision tree classifier).  [relevant rubric items: “discuss parameter tuning”, “tune the algorithm”]\n",
    "\n",
    "### Answer\n",
    "Parameter tuning is an important process of machine learning, in order to get the best performance of the algorithm being used. Those parameters are related to the data set and the type of data used on each feature. This is one of the reasons to call machine learning an *artistic* work, because the same parameter set won't necessarily work fine with other dataset.\n",
    "\n",
    "In this project, I got several examples of parameter tuning effect on classifier performance.\n",
    "I used GridSearchCV on each classifier testing a number of values for each parameter. But when I was more confident about the range of value to use I moved the parameters to the static configuration, because each value multiplies the time spent by GridSearchCV to test all values. Especially when running the classifier with K-Fold Cross Validation, the first test took more than 3 hours to finish, while without GridSearchCV it took just a few seconds. Then I had to fine-tune parameters by hand. I found this way much faster.\n",
    "\n",
    "#### Some examples of parameter tuning in my project\n",
    "SVC's C parameter is a number with a large range of possible values. Setting it to 1, to 1000 or to 10000 make the algorithm apply a penalty to the calculated error. which means that large values of C result in low bias and high variance. The opposite effect occurs with a high value ofo C.\n",
    "\n",
    "SVC's gamma parameter (from o to 1) gives control of the gaussian peak on non-linear classifications, using kernel='rbf'. A value of gamma close to 0 results in low bias and high variance. The opposite will happen using a value close to 1.\n",
    "\n",
    "Playing with C and gamma, I ended up getting good metrics with C=23000, gamma=.587. A tiny difference in any of both parameters would make decrease the performance.\n",
    "\n",
    "SelectKBest's k parameter was definitely a big influence in all my tests, in a less ambiguous way. Selecting more features affected the metrics right away. It affected the results of all tested classifiers.\n",
    "\n",
    "#### Risks when tuning parameters\n",
    "Parameter tuning is responsible of over/under fitting a model. While each parameter has different approaches, all of them end up with poor performance (underfitting, provoking high variance) in training time and not being suitable for predictions, or with too good performance in training time (overfitting, provoking high bias), and poor performance in prediction time.  "
   ]
  },
  {
   "cell_type": "markdown",
   "metadata": {},
   "source": [
    "### Question 5\n",
    "What is validation, and what’s a classic mistake you can make if you do it wrong? How did you validate your analysis?  [relevant rubric items: “discuss validation”, “validation strategy”]\n",
    "\n",
    "### Answer\n",
    "Validation is the simple process of testing the classifier with data points that the classifier has never seen before against the true results. A technique used in this course is called K-Fold Cross Validation, which consists in splitting the data set in k pieces. Iterating k times, the classifier will use all pieces except one as a training set, and the one not used for training will be used for testing. A common error is not to shuffle the data set before splitting it. Resulting in an imbalanced training set, training for one class and testing for another class. It is important to use validation techniques to make sure that the algorithm is doing what is expected to do.\n",
    "\n",
    "At the beginning of the project, I splitted the data set and calculated scores. But going further I started using K-Fold Cross Validation to get a much more robust validation.\n",
    "\n",
    "In addition, since this data set is quite small and highly imbalanced, I used *StratifiedShuffleSplit* in order to split the dataset making sure that every fold will be representative of the whole."
   ]
  },
  {
   "cell_type": "markdown",
   "metadata": {},
   "source": [
    "### Question 6\n",
    "Give at least 2 evaluation metrics and your average performance for each of them.  Explain an interpretation of your metrics that says something human-understandable about your algorithm’s performance. [relevant rubric item: “usage of evaluation metrics”]\n",
    "\n",
    "### Answer\n",
    "After validating prediction results, there are several ways to evaluate the results in a more concrete and accurate way, given each individual prediction compared to the true value (true positive, true negative, false positive, false negative). A confusion matrix could be used to visualise this information.\n",
    "\n",
    "The metrics that I learned in this course were recall, precision and f1-score.\n",
    "\n",
    "* **recall** (also called sensitivity): relevant instances that have been retrieved over the total amount of relevant instances\n",
    "* **precision**: relevant instances among the retrieved instances\n",
    "* **f1-score**: measure of test's accuracy using both recall and precision\n",
    "\n",
    "In this project I got good accuracy score (over 0.88) but quite low recall (about 0.6) and precision (about 0.3). The reasons are two: too small dataset, and the so called problem class imbalance (18 POI against 125 non-POI), although StratifiedShuffleSplit has been used.\n",
    "\n",
    "#### Recall = 0.6\n",
    "It means that the algorithm predicted 60% of relevant elements over all retrieved elements.\n",
    "\n",
    "#### Precision = 0.3\n",
    "It means that only 30% of predicted elements were relevant over all retrieved elements."
   ]
  }
 ],
 "metadata": {
  "kernelspec": {
   "display_name": "Python [conda env:udml]",
   "language": "python",
   "name": "conda-env-udml-py"
  },
  "language_info": {
   "codemirror_mode": {
    "name": "ipython",
    "version": 2
   },
   "file_extension": ".py",
   "mimetype": "text/x-python",
   "name": "python",
   "nbconvert_exporter": "python",
   "pygments_lexer": "ipython2",
   "version": "2.7.13"
  }
 },
 "nbformat": 4,
 "nbformat_minor": 2
}
